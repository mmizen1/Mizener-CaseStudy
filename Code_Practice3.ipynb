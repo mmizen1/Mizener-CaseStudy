{
 "cells": [
  {
   "cell_type": "markdown",
   "metadata": {},
   "source": [
    "# Code Practice 3\n",
    "All material taken from [NYU Data Bootcamp](https://github.com/NYUDataBootcamp/Materials/blob/master/Documents/bootcamp_practice_1.pdf). Practice to review Matploglib concepts from Data Bootcamp as studied in the \"python_notebook\". Select questions from the Code Practice assignment are practiced below to reinforce Python knowledge."
   ]
  },
  {
   "cell_type": "markdown",
   "metadata": {},
   "source": [
    "## Question 1\n",
    "Enter and run this code in a Jupyter cell to produce the dataframe weo"
   ]
  },
  {
   "cell_type": "code",
   "execution_count": 16,
   "metadata": {},
   "outputs": [],
   "source": [
    "# FDP per person in thousands of US dollars, 2008 to 2014\n",
    "# variable PPPPC in the IMF's World Economic Outlook db\n",
    "\n",
    "import pandas as pd\n",
    "data = {'BRA': [13.37, 13.30, 14.34, 15.07, 15.46, 15.98, 16.10],\n",
    "        'JPN': [33.43, 31.83, 33.71, 34.29, 35.60, 36.79, 37.39],\n",
    "        'USA': [48.30, 46.91, 48.31, 49.72, 51.41, 52.94, 54.60],\n",
    "        'Year': [2008, 2009, 2010, 2011, 2012, 2013, 2014]}\n",
    "\n",
    "weo = pd.DataFrame(data)"
   ]
  },
  {
   "cell_type": "code",
   "execution_count": 17,
   "metadata": {},
   "outputs": [
    {
     "data": {
      "text/plain": [
       "pandas.core.frame.DataFrame"
      ]
     },
     "execution_count": 17,
     "metadata": {},
     "output_type": "execute_result"
    }
   ],
   "source": [
    "type(weo)"
   ]
  },
  {
   "cell_type": "code",
   "execution_count": 18,
   "metadata": {},
   "outputs": [
    {
     "data": {
      "text/plain": [
       "dict"
      ]
     },
     "execution_count": 18,
     "metadata": {},
     "output_type": "execute_result"
    }
   ],
   "source": [
    "type(data)"
   ]
  },
  {
   "cell_type": "code",
   "execution_count": 19,
   "metadata": {},
   "outputs": [
    {
     "data": {
      "text/plain": [
       "(7, 4)"
      ]
     },
     "execution_count": 19,
     "metadata": {},
     "output_type": "execute_result"
    }
   ],
   "source": [
    "# 1.e. How many rows does it have? Columns?\n",
    "weo.shape"
   ]
  },
  {
   "cell_type": "code",
   "execution_count": 20,
   "metadata": {},
   "outputs": [
    {
     "data": {
      "text/plain": [
       "BRA     float64\n",
       "JPN     float64\n",
       "USA     float64\n",
       "Year      int64\n",
       "dtype: object"
      ]
     },
     "execution_count": 20,
     "metadata": {},
     "output_type": "execute_result"
    }
   ],
   "source": [
    "# 1.f. What dtypes are the variables/columns? What does this mean?\n",
    "\n",
    "weo.dtypes"
   ]
  },
  {
   "cell_type": "code",
   "execution_count": 21,
   "metadata": {},
   "outputs": [
    {
     "data": {
      "text/plain": [
       "0    2008\n",
       "1    2009\n",
       "2    2010\n",
       "3    2011\n",
       "4    2012\n",
       "5    2013\n",
       "6    2014\n",
       "Name: Year, dtype: int64"
      ]
     },
     "execution_count": 21,
     "metadata": {},
     "output_type": "execute_result"
    }
   ],
   "source": [
    "# 1.g What are each of these expressions? What type?\n",
    "weo['Year']"
   ]
  },
  {
   "cell_type": "code",
   "execution_count": 22,
   "metadata": {},
   "outputs": [
    {
     "data": {
      "text/html": [
       "<div>\n",
       "<style scoped>\n",
       "    .dataframe tbody tr th:only-of-type {\n",
       "        vertical-align: middle;\n",
       "    }\n",
       "\n",
       "    .dataframe tbody tr th {\n",
       "        vertical-align: top;\n",
       "    }\n",
       "\n",
       "    .dataframe thead th {\n",
       "        text-align: right;\n",
       "    }\n",
       "</style>\n",
       "<table border=\"1\" class=\"dataframe\">\n",
       "  <thead>\n",
       "    <tr style=\"text-align: right;\">\n",
       "      <th></th>\n",
       "      <th>Year</th>\n",
       "    </tr>\n",
       "  </thead>\n",
       "  <tbody>\n",
       "    <tr>\n",
       "      <th>0</th>\n",
       "      <td>2008</td>\n",
       "    </tr>\n",
       "    <tr>\n",
       "      <th>1</th>\n",
       "      <td>2009</td>\n",
       "    </tr>\n",
       "    <tr>\n",
       "      <th>2</th>\n",
       "      <td>2010</td>\n",
       "    </tr>\n",
       "    <tr>\n",
       "      <th>3</th>\n",
       "      <td>2011</td>\n",
       "    </tr>\n",
       "    <tr>\n",
       "      <th>4</th>\n",
       "      <td>2012</td>\n",
       "    </tr>\n",
       "    <tr>\n",
       "      <th>5</th>\n",
       "      <td>2013</td>\n",
       "    </tr>\n",
       "    <tr>\n",
       "      <th>6</th>\n",
       "      <td>2014</td>\n",
       "    </tr>\n",
       "  </tbody>\n",
       "</table>\n",
       "</div>"
      ],
      "text/plain": [
       "   Year\n",
       "0  2008\n",
       "1  2009\n",
       "2  2010\n",
       "3  2011\n",
       "4  2012\n",
       "5  2013\n",
       "6  2014"
      ]
     },
     "execution_count": 22,
     "metadata": {},
     "output_type": "execute_result"
    }
   ],
   "source": [
    "weo[['Year']]"
   ]
  },
  {
   "cell_type": "code",
   "execution_count": 23,
   "metadata": {},
   "outputs": [
    {
     "data": {
      "text/plain": [
       "0    2008.0\n",
       "1    2009.0\n",
       "2    2010.0\n",
       "3    2011.0\n",
       "4    2012.0\n",
       "5    2013.0\n",
       "6    2014.0\n",
       "Name: Year, dtype: float64"
      ]
     },
     "execution_count": 23,
     "metadata": {},
     "output_type": "execute_result"
    }
   ],
   "source": [
    "# 1.h Find and apply a method to convert weo['Year'] to type float\n",
    "\n",
    "weo['Year'].astype('float')"
   ]
  },
  {
   "cell_type": "code",
   "execution_count": 24,
   "metadata": {},
   "outputs": [
    {
     "name": "stdout",
     "output_type": "stream",
     "text": [
      "     BRA    JPN    USA  Year\n",
      "4  15.46  35.60  51.41  2012\n",
      "5  15.98  36.79  52.94  2013\n",
      "6  16.10  37.39  54.60  2014\n"
     ]
    }
   ],
   "source": [
    "# 1.i. Describe the result of the statement t=weo.tail(3).\n",
    "# What kind of object is t?\n",
    "# What does it look like?\n",
    "\n",
    "t = weo.tail(3)    #extracts the bottom 3\n",
    "print(t)"
   ]
  },
  {
   "cell_type": "code",
   "execution_count": 25,
   "metadata": {},
   "outputs": [
    {
     "data": {
      "text/plain": [
       "pandas.core.frame.DataFrame"
      ]
     },
     "execution_count": 25,
     "metadata": {},
     "output_type": "execute_result"
    }
   ],
   "source": [
    "type(t)"
   ]
  },
  {
   "cell_type": "code",
   "execution_count": 26,
   "metadata": {},
   "outputs": [
    {
     "name": "stdout",
     "output_type": "stream",
     "text": [
      "     BRA    JPN    USA  Year\n",
      "0  13.37  33.43  48.30  2008\n",
      "1  13.30  31.83  46.91  2009\n",
      "2  14.34  33.71  48.31  2010\n",
      "3  15.07  34.29  49.72  2011\n"
     ]
    }
   ],
   "source": [
    "# 1.j. How would you create a new df that consists of the first 4 rows of weo?\n",
    "\n",
    "h = weo.head(4)\n",
    "print(h)"
   ]
  },
  {
   "cell_type": "code",
   "execution_count": 27,
   "metadata": {},
   "outputs": [
    {
     "data": {
      "text/plain": [
       "pandas.core.series.Series"
      ]
     },
     "execution_count": 27,
     "metadata": {},
     "output_type": "execute_result"
    }
   ],
   "source": [
    "# 1.k What type of object is weo['BRA']\n",
    "\n",
    "type(weo['BRA'])"
   ]
  },
  {
   "cell_type": "code",
   "execution_count": 28,
   "metadata": {},
   "outputs": [
    {
     "name": "stdout",
     "output_type": "stream",
     "text": [
      "     BRA    JPN    USA  Year   BRA_JPN\n",
      "0  13.37  33.43  48.30  2008  0.399940\n",
      "1  13.30  31.83  46.91  2009  0.417845\n",
      "2  14.34  33.71  48.31  2010  0.425393\n",
      "3  15.07  34.29  49.72  2011  0.439487\n",
      "4  15.46  35.60  51.41  2012  0.434270\n",
      "5  15.98  36.79  52.94  2013  0.434357\n",
      "6  16.10  37.39  54.60  2014  0.430596\n"
     ]
    }
   ],
   "source": [
    "# 1.l Create a new variable equal to the ratio of Brazil's GDP per capita to Japan's and add it\n",
    "# to the DataFrame.\n",
    "\n",
    "weo['BRA_JPN'] = weo['BRA']/weo['JPN']\n",
    "\n",
    "print(weo)"
   ]
  },
  {
   "cell_type": "code",
   "execution_count": 29,
   "metadata": {},
   "outputs": [],
   "source": [
    "# 1.M m. Challenging. Use the drop() method to eliminate this \n",
    "# (new) variable from the dataframe.\n",
    "\n",
    "weo = weo.drop('BRA_JPN', axis=1)\n"
   ]
  },
  {
   "cell_type": "code",
   "execution_count": 30,
   "metadata": {},
   "outputs": [
    {
     "name": "stdout",
     "output_type": "stream",
     "text": [
      "     BRA    JPN    USA  Year\n",
      "0  13.37  33.43  48.30  2008\n",
      "1  13.30  31.83  46.91  2009\n",
      "2  14.34  33.71  48.31  2010\n",
      "3  15.07  34.29  49.72  2011\n",
      "4  15.46  35.60  51.41  2012\n",
      "5  15.98  36.79  52.94  2013\n",
      "6  16.10  37.39  54.60  2014\n"
     ]
    }
   ],
   "source": [
    "print(weo)"
   ]
  },
  {
   "cell_type": "code",
   "execution_count": 31,
   "metadata": {},
   "outputs": [
    {
     "data": {
      "text/plain": [
       "['BRA', 'JPN', 'USA', 'Year']"
      ]
     },
     "execution_count": 31,
     "metadata": {},
     "output_type": "execute_result"
    }
   ],
   "source": [
    "# 1.n. What are weo's row and column labels?\n",
    "\n",
    "weo.columns.tolist()\n",
    "#weo.index.tolist() "
   ]
  },
  {
   "cell_type": "code",
   "execution_count": 32,
   "metadata": {},
   "outputs": [
    {
     "data": {
      "text/plain": [
       "[0, 1, 2, 3, 4, 5, 6]"
      ]
     },
     "execution_count": 32,
     "metadata": {},
     "output_type": "execute_result"
    }
   ],
   "source": [
    "weo.index.tolist()"
   ]
  },
  {
   "cell_type": "code",
   "execution_count": 33,
   "metadata": {},
   "outputs": [],
   "source": [
    "# 1.o. Set the index equal to the Year variable.\n",
    "\n",
    "weo = weo.set_index(['Year'])"
   ]
  },
  {
   "cell_type": "code",
   "execution_count": 34,
   "metadata": {},
   "outputs": [
    {
     "name": "stdout",
     "output_type": "stream",
     "text": [
      "        BRA    JPN    USA\n",
      "Year                     \n",
      "2008  13.37  33.43  48.30\n",
      "2009  13.30  31.83  46.91\n",
      "2010  14.34  33.71  48.31\n",
      "2011  15.07  34.29  49.72\n",
      "2012  15.46  35.60  51.41\n",
      "2013  15.98  36.79  52.94\n",
      "2014  16.10  37.39  54.60\n"
     ]
    }
   ],
   "source": [
    "print(weo)"
   ]
  },
  {
   "cell_type": "code",
   "execution_count": 35,
   "metadata": {},
   "outputs": [],
   "source": [
    "# 1.p. Change the names of the other variables to Brazil, Japan, and United States.\n",
    "\n",
    "weo.columns =['Brazil', 'Japan', 'United States']"
   ]
  },
  {
   "cell_type": "code",
   "execution_count": 36,
   "metadata": {},
   "outputs": [
    {
     "name": "stdout",
     "output_type": "stream",
     "text": [
      "      Brazil  Japan  United States\n",
      "Year                              \n",
      "2008   13.37  33.43          48.30\n",
      "2009   13.30  31.83          46.91\n",
      "2010   14.34  33.71          48.31\n",
      "2011   15.07  34.29          49.72\n",
      "2012   15.46  35.60          51.41\n",
      "2013   15.98  36.79          52.94\n",
      "2014   16.10  37.39          54.60\n"
     ]
    }
   ],
   "source": [
    "print(weo)"
   ]
  },
  {
   "cell_type": "code",
   "execution_count": 37,
   "metadata": {},
   "outputs": [
    {
     "data": {
      "text/plain": [
       "Brazil           14.802857\n",
       "Japan            34.720000\n",
       "United States    50.312857\n",
       "dtype: float64"
      ]
     },
     "execution_count": 37,
     "metadata": {},
     "output_type": "execute_result"
    }
   ],
   "source": [
    "# 1.r. What method would you use to compute the mean for each country? What are the means?\n",
    "\n",
    "weo.mean()"
   ]
  },
  {
   "cell_type": "code",
   "execution_count": 38,
   "metadata": {},
   "outputs": [
    {
     "data": {
      "text/plain": [
       "<matplotlib.axes._subplots.AxesSubplot at 0x28aac113c50>"
      ]
     },
     "execution_count": 38,
     "metadata": {},
     "output_type": "execute_result"
    },
    {
     "data": {
      "image/png": "[encoded data removed]",
      "text/plain": [
       "<Figure size 432x288 with 2 Axes>"
      ]
     },
     "metadata": {},
     "output_type": "display_data"
    },
    {
     "data": {
      "image/png": "[encoded data removed]",
      "text/plain": [
       "<Figure size 576x288 with 1 Axes>"
      ]
     },
     "metadata": {},
     "output_type": "display_data"
    }
   ],
   "source": [
    "# 1.t. Plot the data by applying a plot method to weo.\n",
    "\n",
    "import matplotlib.pyplot as plt\n",
    "\n",
    "fig, ax = plt.subplots(2, 1)\n",
    "\n",
    "fig, axe = plt.subplots(figsize=(8, 4))\n",
    "\n",
    "weo.plot(ax=axe)"
   ]
  },
  {
   "cell_type": "code",
   "execution_count": 39,
   "metadata": {},
   "outputs": [
    {
     "data": {
      "text/plain": [
       "<matplotlib.axes._subplots.AxesSubplot at 0x28aac9ee0f0>"
      ]
     },
     "execution_count": 39,
     "metadata": {},
     "output_type": "execute_result"
    },
    {
     "data": {
      "image/png": "[encoded data removed]",
      "text/plain": [
       "<Figure size 576x288 with 1 Axes>"
      ]
     },
     "metadata": {},
     "output_type": "display_data"
    }
   ],
   "source": [
    "# 1.u. Challenging. Change the colors of the lines to green (Brazil), red (Japan), and blue (US).\n",
    "fig, axe = plt.subplots(figsize=(8, 4))\n",
    "\n",
    "weo.plot(ax=axe, color = ['green', 'red', 'blue'])"
   ]
  },
  {
   "cell_type": "code",
   "execution_count": 40,
   "metadata": {},
   "outputs": [
    {
     "data": {
      "text/plain": [
       "<matplotlib.axes._subplots.AxesSubplot at 0x28aacfd4fd0>"
      ]
     },
     "execution_count": 40,
     "metadata": {},
     "output_type": "execute_result"
    },
    {
     "data": {
      "image/png": "[encoded data removed]",
      "text/plain": [
       "<Figure size 432x288 with 1 Axes>"
      ]
     },
     "metadata": {},
     "output_type": "display_data"
    }
   ],
   "source": [
    "# 1.w. Plot Brazil on its own.\n",
    "fig, ax = plt.subplots() \n",
    "weo['Brazil'].plot()"
   ]
  },
  {
   "cell_type": "markdown",
   "metadata": {},
   "source": [
    "## Question 2\n",
    "Use read_csv() to read the responses of a previous semesters entry poll from\n",
    "https://raw.githubusercontent.com/NYUDataBootcamp/Materials/master/Data/entry_poll_fall16.csv"
   ]
  },
  {
   "cell_type": "code",
   "execution_count": 41,
   "metadata": {},
   "outputs": [],
   "source": [
    "url1 = 'https://raw.githubusercontent.com/NYUDataBootcamp' # break URL into two lines\n",
    "url2 = '/Materials/master/Data/entry_poll_fall16.csv'\n",
    "url = url1 + url2\n",
    "ep = pd.read_csv(url)"
   ]
  },
  {
   "cell_type": "code",
   "execution_count": 42,
   "metadata": {},
   "outputs": [
    {
     "name": "stdout",
     "output_type": "stream",
     "text": [
      "\n",
      "               TimeStamp            Why have you enrolled in this course?    \\\n",
      "0   2016-08-16 12:55:02                             To help with my career   \n",
      "1   2016-08-31 05:54:00                                 I heard it was fun   \n",
      "2   2016-09-01 19:43:56                                 I like a challenge   \n",
      "3   2016-09-01 20:00:08                                 I heard it was fun   \n",
      "4   2016-09-01 20:00:52                                 I heard it was fun   \n",
      "5   2016-09-01 20:56:31                                 I heard it was fun   \n",
      "6   2016-09-01 22:30:33                             To help with my career   \n",
      "7   2016-09-01 22:31:14                             To help with my career   \n",
      "8   2016-09-02 01:09:15                        I lost my mind for a minute   \n",
      "9   2016-09-02 10:25:48                                 I heard it was fun   \n",
      "10  2016-09-02 11:54:33                             To help with my career   \n",
      "11  2016-09-02 13:06:15                             To help with my career   \n",
      "12  2016-09-02 16:00:37                             To help with my career   \n",
      "13  2016-09-02 20:10:36                                 I heard it was fun   \n",
      "14  2016-09-02 21:56:44  I code/build websites in my spare time as a hobby   \n",
      "15  2016-09-03 09:45:56                             To help with my career   \n",
      "16  2016-09-04 10:53:37                        I lost my mind for a minute   \n",
      "17  2016-09-04 12:44:53                                 I heard it was fun   \n",
      "18  2016-09-04 15:39:17                             To help with my career   \n",
      "19  2016-09-04 20:27:46                             To help with my career   \n",
      "20  2016-09-05 13:41:18                             To help with my career   \n",
      "21  2016-09-05 15:34:56                             To help with my career   \n",
      "22  2016-09-05 22:10:23                                 I heard it was fun   \n",
      "23  2016-09-06 01:47:21                             To help with my career   \n",
      "24  2016-09-06 10:42:42                             To help with my career   \n",
      "25  2016-09-06 13:42:48                             To help with my career   \n",
      "26  2016-09-06 14:12:46                             To help with my career   \n",
      "27  2016-09-06 15:35:15                             To help with my career   \n",
      "28  2016-09-06 17:11:46                             To help with my career   \n",
      "29  2016-09-06 17:42:10                        Recommended by a professor.   \n",
      "..                  ...                                                ...   \n",
      "55  2016-09-19 22:41:01                   i am living in Santiago de Chile   \n",
      "56  2016-09-20 07:28:38                             To help with my career   \n",
      "57  2016-09-20 07:57:45                                 I heard it was fun   \n",
      "58  2016-09-20 12:48:45                             To help with my career   \n",
      "59  2016-09-20 13:01:39                             To help with my career   \n",
      "60  2016-09-20 16:45:07                             To help with my career   \n",
      "61  2016-09-20 18:03:44                             To help with my career   \n",
      "62  2016-09-20 18:53:11                        I lost my mind for a minute   \n",
      "63  2016-09-20 21:15:40                             To help with my career   \n",
      "64  2016-09-20 21:50:04                             To help with my career   \n",
      "65  2016-09-21 12:47:49                        I lost my mind for a minute   \n",
      "66  2016-09-21 13:12:07                             To help with my career   \n",
      "67  2016-09-21 13:22:54                                 I heard it was fun   \n",
      "68  2016-09-21 14:32:33                             To help with my career   \n",
      "69  2016-09-21 15:16:42                             To help with my career   \n",
      "70  2016-09-21 15:56:03                             To help with my career   \n",
      "71  2016-09-21 16:29:42                             To help with my career   \n",
      "72  2016-09-21 17:24:33                                 I heard it was fun   \n",
      "73  2016-09-21 17:29:33                             To help with my career   \n",
      "74  2016-09-21 18:11:38                             To help with my career   \n",
      "75  2016-09-21 18:15:15                             To help with my career   \n",
      "76  2016-09-21 18:34:58                        I lost my mind for a minute   \n",
      "77  2016-09-22 09:03:40                             To help with my career   \n",
      "78  2016-09-23 14:33:06                             To help with my career   \n",
      "79  2016-09-24 12:36:46                             To help with my career   \n",
      "80  2016-09-25 22:27:59                             To help with my career   \n",
      "81  2016-09-26 13:44:20                             To help with my career   \n",
      "82  2016-09-27 15:05:34                             To help with my career   \n",
      "83  2016-09-28 14:47:25                             To help with my career   \n",
      "84  2016-09-28 18:35:45                             To help with my career   \n",
      "\n",
      "   What program are you enrolled in?  \\\n",
      "0             Undergraduate business   \n",
      "1                Other undergraduate   \n",
      "2                Other undergraduate   \n",
      "3                Other undergraduate   \n",
      "4             Undergraduate business   \n",
      "5             Undergraduate business   \n",
      "6                Other undergraduate   \n",
      "7             Undergraduate business   \n",
      "8             Undergraduate business   \n",
      "9             Undergraduate business   \n",
      "10               Other undergraduate   \n",
      "11            Undergraduate business   \n",
      "12            Undergraduate business   \n",
      "13               Other undergraduate   \n",
      "14            Undergraduate business   \n",
      "15                          Gallatin   \n",
      "16            Undergraduate business   \n",
      "17            Undergraduate business   \n",
      "18            Undergraduate business   \n",
      "19            Undergraduate business   \n",
      "20               Other undergraduate   \n",
      "21            Undergraduate business   \n",
      "22            Undergraduate business   \n",
      "23            Undergraduate Gallatin   \n",
      "24            Undergraduate business   \n",
      "25            Undergraduate business   \n",
      "26               Other undergraduate   \n",
      "27            Undergraduate business   \n",
      "28               Other undergraduate   \n",
      "29            Undergraduate business   \n",
      "..                               ...   \n",
      "55                Sin plata para MBA   \n",
      "56                               MBA   \n",
      "57                               MBA   \n",
      "58                               MBA   \n",
      "59                               MBA   \n",
      "60                               MBA   \n",
      "61                               MBA   \n",
      "62                               MBA   \n",
      "63                               MBA   \n",
      "64                               MBA   \n",
      "65                               MBA   \n",
      "66                               MBA   \n",
      "67                               MBA   \n",
      "68                               MBA   \n",
      "69                               MBA   \n",
      "70                               MBA   \n",
      "71                               MBA   \n",
      "72                               MBA   \n",
      "73                               MBA   \n",
      "74                               MBA   \n",
      "75                               MBA   \n",
      "76                               MBA   \n",
      "77                               MBA   \n",
      "78                               MBA   \n",
      "79                               MBA   \n",
      "80                               MBA   \n",
      "81                               MBA   \n",
      "82          Management of Technology   \n",
      "83                               MBA   \n",
      "84                               MBA   \n",
      "\n",
      "        How much programming experience have you had?  \\\n",
      "0                                                None   \n",
      "1                                                None   \n",
      "2                                                None   \n",
      "3                                                None   \n",
      "4                 I have taken one programming course   \n",
      "5                 I have taken one programming course   \n",
      "6                                                None   \n",
      "7                                                None   \n",
      "8                                                None   \n",
      "9                 I have taken one programming course   \n",
      "10                I have taken one programming course   \n",
      "11                I have taken one programming course   \n",
      "12  I have taken many courses and forgotten most o...   \n",
      "13                                               None   \n",
      "14  I have taken many courses and forgotten most o...   \n",
      "15                                               None   \n",
      "16                I have taken one programming course   \n",
      "17  I have taken many courses and/or have extensiv...   \n",
      "18                                               None   \n",
      "19                I have taken one programming course   \n",
      "20                                               None   \n",
      "21                                               None   \n",
      "22                I have taken one programming course   \n",
      "23                                               None   \n",
      "24                                               None   \n",
      "25                                               None   \n",
      "26                                               None   \n",
      "27  I have taken many courses and forgotten most o...   \n",
      "28                                               None   \n",
      "29                                               None   \n",
      "..                                                ...   \n",
      "55  I have taken many courses and/or have extensiv...   \n",
      "56                                               None   \n",
      "57                I have taken one programming course   \n",
      "58                I have taken one programming course   \n",
      "59                                               None   \n",
      "60                                               None   \n",
      "61                                               None   \n",
      "62                                               None   \n",
      "63                                               None   \n",
      "64                                               None   \n",
      "65                                               None   \n",
      "66                                               None   \n",
      "67                I have taken one programming course   \n",
      "68                                               None   \n",
      "69                                               None   \n",
      "70                                               None   \n",
      "71                                               None   \n",
      "72                                               None   \n",
      "73                                               None   \n",
      "74                I have taken one programming course   \n",
      "75                                               None   \n",
      "76                                               None   \n",
      "77                                               None   \n",
      "78                I have taken one programming course   \n",
      "79                                               None   \n",
      "80                                               None   \n",
      "81                I have taken one programming course   \n",
      "82                I have taken one programming course   \n",
      "83  I have taken many courses and forgotten most o...   \n",
      "84                I have taken one programming course   \n",
      "\n",
      "   How much experience with probability and statistics have you had?  \\\n",
      "0   I have taken one probability or statistics course                  \n",
      "1                                                None                  \n",
      "2   I have taken one probability or statistics course                  \n",
      "3   I have taken many courses and/or have extensiv...                  \n",
      "4   I have taken one probability or statistics course                  \n",
      "5   I have taken many courses and/or have extensiv...                  \n",
      "6   I have taken one probability or statistics course                  \n",
      "7   I have taken one probability or statistics course                  \n",
      "8   I have taken one probability or statistics course                  \n",
      "9   I have taken one probability or statistics course                  \n",
      "10  I have taken one probability or statistics course                  \n",
      "11  I have taken one probability or statistics course                  \n",
      "12  I have taken one probability or statistics course                  \n",
      "13                                               None                  \n",
      "14  I have taken many courses and/or have extensiv...                  \n",
      "15  I have taken one probability or statistics course                  \n",
      "16  I have taken one probability or statistics course                  \n",
      "17  I have taken one probability or statistics course                  \n",
      "18  I have taken many courses and forgotten most o...                  \n",
      "19  I have taken one probability or statistics course                  \n",
      "20  I have taken one probability or statistics course                  \n",
      "21  I have taken one probability or statistics course                  \n",
      "22  I have taken one probability or statistics course                  \n",
      "23  I have taken one probability or statistics course                  \n",
      "24  I have taken one probability or statistics course                  \n",
      "25  I have taken one probability or statistics course                  \n",
      "26  I have taken one probability or statistics course                  \n",
      "27  I have taken one probability or statistics course                  \n",
      "28  I have taken many courses and forgotten most o...                  \n",
      "29  I have taken one probability or statistics course                  \n",
      "..                                                ...                  \n",
      "55  I have taken many courses and/or have extensiv...                  \n",
      "56  I have taken many courses and/or have extensiv...                  \n",
      "57  I have taken many courses and forgotten most o...                  \n",
      "58  I have taken many courses and/or have extensiv...                  \n",
      "59  I have taken one probability or statistics course                  \n",
      "60  I have taken one probability or statistics course                  \n",
      "61  I have taken one probability or statistics course                  \n",
      "62  I have taken one probability or statistics course                  \n",
      "63  I have taken one probability or statistics course                  \n",
      "64  I have taken one probability or statistics course                  \n",
      "65  I have taken one probability or statistics course                  \n",
      "66  I have taken one probability or statistics course                  \n",
      "67  I have taken one probability or statistics course                  \n",
      "68  I have taken one probability or statistics course                  \n",
      "69  I have taken one probability or statistics course                  \n",
      "70  I have taken one probability or statistics course                  \n",
      "71  I have taken many courses and forgotten most o...                  \n",
      "72  I have taken one probability or statistics course                  \n",
      "73  I have taken many courses and forgotten most o...                  \n",
      "74  I have taken many courses and/or have extensiv...                  \n",
      "75  I have taken one probability or statistics course                  \n",
      "76  I have taken many courses and forgotten most o...                  \n",
      "77  I have taken many courses and/or have extensiv...                  \n",
      "78  I have taken many courses and/or have extensiv...                  \n",
      "79  I have taken many courses and forgotten most o...                  \n",
      "80  I have taken one probability or statistics course                  \n",
      "81  I have taken many courses and forgotten most o...                  \n",
      "82  I have taken one probability or statistics course                  \n",
      "83  I have taken many courses and/or have extensiv...                  \n",
      "84  I have taken many courses and/or have extensiv...                  \n",
      "\n",
      "   What is your expected major or concentration?   \\\n",
      "0                        Analytics or other quant   \n",
      "1                                             NaN   \n",
      "2                                        Politics   \n",
      "3                       Economics and Mathematics   \n",
      "4                                         Finance   \n",
      "5                                 Economic Theory   \n",
      "6                    Politics, minor in Economics   \n",
      "7                                         Finance   \n",
      "8                                         Finance   \n",
      "9                                         Finance   \n",
      "10                       Analytics or other quant   \n",
      "11                       Analytics or other quant   \n",
      "12                                        Finance   \n",
      "13                       Analytics or other quant   \n",
      "14                                     Management   \n",
      "15                       Analytics or other quant   \n",
      "16                                        Finance   \n",
      "17                                        Finance   \n",
      "18                                      Economics   \n",
      "19                                      Marketing   \n",
      "20                                      Economics   \n",
      "21                                            NaN   \n",
      "22                                        Finance   \n",
      "23                       Analytics or other quant   \n",
      "24                             Econ and Politics    \n",
      "25                               Math & Economics   \n",
      "26                                      Economics   \n",
      "27                                        Finance   \n",
      "28                                        Finance   \n",
      "29                                        Finance   \n",
      "..                                            ...   \n",
      "55                       Analytics or other quant   \n",
      "56                       Analytics or other quant   \n",
      "57                                     Management   \n",
      "58                       Analytics or other quant   \n",
      "59                                        Finance   \n",
      "60                       Analytics or other quant   \n",
      "61                       Analytics or other quant   \n",
      "62                                        Finance   \n",
      "63                                        Finance   \n",
      "64                                        Finance   \n",
      "65                                        Finance   \n",
      "66                                      Marketing   \n",
      "67                                        Finance   \n",
      "68                                      Marketing   \n",
      "69                                       strategy   \n",
      "70                                      Economics   \n",
      "71                                        Finance   \n",
      "72                       Analytics or other quant   \n",
      "73                                        Finance   \n",
      "74                                  Entertainment   \n",
      "75                                       Strategy   \n",
      "76                                     Management   \n",
      "77                       Analytics or other quant   \n",
      "78                       Analytics or other quant   \n",
      "79                       Analytics or other quant   \n",
      "80                                     Management   \n",
      "81                                        Finance   \n",
      "82                                     Management   \n",
      "83                       Analytics or other quant   \n",
      "84                                     Management   \n",
      "\n",
      "   What career path most interests you?   \\\n",
      "0       Technology (Google, Amazon, etc)   \n",
      "1                                Finance   \n",
      "2                             Consulting   \n",
      "3                                Finance   \n",
      "4                                Finance   \n",
      "5                      Actuarial science   \n",
      "6                             Consulting   \n",
      "7                                Finance   \n",
      "8       Technology (Google, Amazon, etc)   \n",
      "9                                Finance   \n",
      "10                               Finance   \n",
      "11                               Finance   \n",
      "12                               Finance   \n",
      "13      Technology (Google, Amazon, etc)   \n",
      "14      Technology (Google, Amazon, etc)   \n",
      "15          Data analysis for think tank   \n",
      "16      Technology (Google, Amazon, etc)   \n",
      "17                               Finance   \n",
      "18                               Finance   \n",
      "19                             Marketing   \n",
      "20                            Consulting   \n",
      "21                            Consulting   \n",
      "22                            Consulting   \n",
      "23      Technology (Google, Amazon, etc)   \n",
      "24              International Relations    \n",
      "25                             Marketing   \n",
      "26                            Consulting   \n",
      "27      Technology (Google, Amazon, etc)   \n",
      "28                               Finance   \n",
      "29                               Finance   \n",
      "..                                   ...   \n",
      "55                          Data Science   \n",
      "56                               Finance   \n",
      "57      Technology (Google, Amazon, etc)   \n",
      "58      Technology (Google, Amazon, etc)   \n",
      "59                               Finance   \n",
      "60      Technology (Google, Amazon, etc)   \n",
      "61                               Finance   \n",
      "62                            Consulting   \n",
      "63                               Finance   \n",
      "64                             Marketing   \n",
      "65                               Finance   \n",
      "66                             Marketing   \n",
      "67                               Finance   \n",
      "68      Technology (Google, Amazon, etc)   \n",
      "69                            Consulting   \n",
      "70      Technology (Google, Amazon, etc)   \n",
      "71                               Finance   \n",
      "72      Technology (Google, Amazon, etc)   \n",
      "73                               Finance   \n",
      "74      Technology (Google, Amazon, etc)   \n",
      "75                            Consulting   \n",
      "76                   Business Operations   \n",
      "77                               Finance   \n",
      "78      Technology (Google, Amazon, etc)   \n",
      "79                            Consulting   \n",
      "80                            Consulting   \n",
      "81                            Consulting   \n",
      "82                            Consulting   \n",
      "83      Technology (Google, Amazon, etc)   \n",
      "84                            Consulting   \n",
      "\n",
      "   Do you use social media for information purposes?  Check all that apply.  \\\n",
      "0                                             Twitter                         \n",
      "1                                                None                         \n",
      "2                                                None                         \n",
      "3                                             Twitter                         \n",
      "4                                                None                         \n",
      "5                                                None                         \n",
      "6                                             Twitter                         \n",
      "7                                           Faceboook                         \n",
      "8                                                None                         \n",
      "9                                             Twitter                         \n",
      "10                                               None                         \n",
      "11                                               None                         \n",
      "12                                   Facebook, Wechat                         \n",
      "13                                               None                         \n",
      "14                                               None                         \n",
      "15                                            Twitter                         \n",
      "16                                               None                         \n",
      "17                                            Twitter                         \n",
      "18                                               None                         \n",
      "19                                   Twitter;Facebook                         \n",
      "20                                               None                         \n",
      "21                                               None                         \n",
      "22                                               None                         \n",
      "23                          Twitter;Blog (RSS) reader                         \n",
      "24                                          Facebook                          \n",
      "25                                           Facebook                         \n",
      "26                          Twitter;Blog (RSS) reader                         \n",
      "27                                            Twitter                         \n",
      "28                                               None                         \n",
      "29                                               None                         \n",
      "..                                                ...                         \n",
      "55                       Twitter;Blog (RSS) reader;FB                         \n",
      "56                                            Twitter                         \n",
      "57                                  Blog (RSS) reader                         \n",
      "58                                               None                         \n",
      "59                                               None                         \n",
      "60                                               None                         \n",
      "61                                               None                         \n",
      "62                                                NaN                         \n",
      "63                                            Twitter                         \n",
      "64                                               None                         \n",
      "65                          Twitter;Blog (RSS) reader                         \n",
      "66                                            Twitter                         \n",
      "67                                               None                         \n",
      "68                                            Twitter                         \n",
      "69                                  Blog (RSS) reader                         \n",
      "70                          Twitter;Blog (RSS) reader                         \n",
      "71                                  Blog (RSS) reader                         \n",
      "72                                               None                         \n",
      "73                                               9gag                         \n",
      "74                                            Twitter                         \n",
      "75                                            Twitter                         \n",
      "76                                                NaN                         \n",
      "77                                               None                         \n",
      "78                                                 FB                         \n",
      "79                                               None                         \n",
      "80                                  Twitter;Instagram                         \n",
      "81                                               None                         \n",
      "82                                            Twitter                         \n",
      "83                         Blog (RSS) reader;Facebook                         \n",
      "84                                            Twitter                         \n",
      "\n",
      "   What kinds of data most interest you?  List any that cross your mind.    \\\n",
      "0       Financial Data, Logistical Data, Housing Data                        \n",
      "1                                                 NaN                        \n",
      "2                                                 NaN                        \n",
      "3                     Quantitative macroeconomic data                        \n",
      "4   Demographical data (not sure I understand the ...                        \n",
      "5                          economic data, sports data                        \n",
      "6                            Business, social science                        \n",
      "7                                                 NaN                        \n",
      "8   sports analytics, business operations, algorit...                        \n",
      "9   Sports Data, Financial Data, Sales Data, Twitt...                        \n",
      "10                            Economic and financial                         \n",
      "11                         Accumulated financial data                        \n",
      "12                                                NaN                        \n",
      "13                                                NaN                        \n",
      "14                              harnessing 'big data'                        \n",
      "15              Human rights data, psychological data                        \n",
      "16                               NFL, NBA, tv viewers                        \n",
      "17                                                NaN                        \n",
      "18                                           Economic                        \n",
      "19                        sports data, marketing data                        \n",
      "20  I've helped a professor with research using ce...                        \n",
      "21                                                NaN                        \n",
      "22                                                NaN                        \n",
      "23                                                NaN                        \n",
      "24                                         Political                         \n",
      "25                  Film figures, music figures, etc.                        \n",
      "26                                            Polling                        \n",
      "27              Demographics, Wealth, Geographic, etc                        \n",
      "28  psychological, career, major, wage, expense, e...                        \n",
      "29  Stocks, Financials, etc, sports stats, macro e...                        \n",
      "..                                                ...                        \n",
      "55                                          all data                         \n",
      "56                   Economic release, financial data                        \n",
      "57                                                NaN                        \n",
      "58                                                NaN                        \n",
      "59                             Health, Financial Data                        \n",
      "60   Transactional data merged with social media data                        \n",
      "61                                                NaN                        \n",
      "62                                       Compensation                        \n",
      "63                                                NaN                        \n",
      "64                                       Sports Stats                        \n",
      "65  clinical trial data, anything to do with pharm...                        \n",
      "66             Purchasing behavior, consumer behavior                        \n",
      "67  Economic, city, energy, sports, financial markets                        \n",
      "68                                                NaN                        \n",
      "69                                  data used at work                        \n",
      "70  Big Data, IoT, Home Automation, Fitness/Health...                        \n",
      "71                                                NaN                        \n",
      "72                                                NaN                        \n",
      "73                                                NaN                        \n",
      "74                               Digital supply chain                        \n",
      "75                 Financial, economic, customer data                        \n",
      "76                                                NaN                        \n",
      "77                                                NaN                        \n",
      "78                                                any                        \n",
      "79                                                NaN                        \n",
      "80        economic data/social sciences research data                        \n",
      "81  sports statistics, socioeconomic correlations ...                        \n",
      "82                    Huge sets of Quantitative data                         \n",
      "83          Economic, demographic / political, health                        \n",
      "84                                   Soial media text                        \n",
      "\n",
      "   If we have time -- and we may not -- what special topics would interest you?  Check all that apply.  \n",
      "0                        Multivariate regression;Maps                                                   \n",
      "1          None, I'd prefer to focus on fundamentals.                                                   \n",
      "2                Multivariate regression;Web scraping                                                   \n",
      "3                Multivariate regression;Web scraping                                                   \n",
      "4           Multivariate regression;Web scraping;Maps                                                   \n",
      "5   Multivariate regression;Maps;Natural language ...                                                   \n",
      "6                                        Web scraping                                                   \n",
      "7   Multivariate regression;Natural language proce...                                                   \n",
      "8                                        Web scraping                                                   \n",
      "9                             Multivariate regression                                                   \n",
      "10                            Multivariate regression                                                   \n",
      "11  Multivariate regression;Web scraping;Maps;Natu...                                                   \n",
      "12  Multivariate regression;Web scraping;Maps;Natu...                                                   \n",
      "13         None, I'd prefer to focus on fundamentals.                                                   \n",
      "14      Web scraping;Maps;Natural language processing                                                   \n",
      "15  Multivariate regression;Web scraping;Maps;Natu...                                                   \n",
      "16           Web scraping;Natural language processing                                                   \n",
      "17         None, I'd prefer to focus on fundamentals.                                                   \n",
      "18               Multivariate regression;Web scraping                                                   \n",
      "19         None, I'd prefer to focus on fundamentals.                                                   \n",
      "20                            Multivariate regression                                                   \n",
      "21                        Natural language processing                                                   \n",
      "22         None, I'd prefer to focus on fundamentals.                                                   \n",
      "23  Multivariate regression;Natural language proce...                                                   \n",
      "24                                                NaN                                                   \n",
      "25                            Multivariate regression                                                   \n",
      "26                       Multivariate regression;Maps                                                   \n",
      "27      Web scraping;Maps;Natural language processing                                                   \n",
      "28               Multivariate regression;Web scraping                                                   \n",
      "29                            Multivariate regression                                                   \n",
      "..                                                ...                                                   \n",
      "55  Web scraping;Maps;Natural language processing;...                                                   \n",
      "56                            Multivariate regression                                                   \n",
      "57      Web scraping;Maps;Natural language processing                                                   \n",
      "58                        Natural language processing                                                   \n",
      "59                        Natural language processing                                                   \n",
      "60  Multivariate regression;Web scraping;Natural l...                                                   \n",
      "61      Web scraping;Maps;Natural language processing                                                   \n",
      "62                                                NaN                                                   \n",
      "63         None, I'd prefer to focus on fundamentals.                                                   \n",
      "64               Multivariate regression;Web scraping                                                   \n",
      "65         None, I'd prefer to focus on fundamentals.                                                   \n",
      "66               Multivariate regression;Web scraping                                                   \n",
      "67                                  Web scraping;Maps                                                   \n",
      "68                                       Web scraping                                                   \n",
      "69                                               Maps                                                   \n",
      "70      Web scraping;Maps;Home Automation programming                                                   \n",
      "71                                                NaN                                                   \n",
      "72         None, I'd prefer to focus on fundamentals.                                                   \n",
      "73                                                NaN                                                   \n",
      "74      Web scraping;Maps;Natural language processing                                                   \n",
      "75  Multivariate regression;Web scraping;Natural l...                                                   \n",
      "76                                               Maps                                                   \n",
      "77          Multivariate regression;Web scraping;Maps                                                   \n",
      "78  Multivariate regression;Natural language proce...                                                   \n",
      "79                        Natural language processing                                                   \n",
      "80                                               Maps                                                   \n",
      "81  Multivariate regression;Web scraping;Natural l...                                                   \n",
      "82  Multivariate regression;Web scraping;Natural l...                                                   \n",
      "83                                       Web scraping                                                   \n",
      "84      Web scraping;Maps;Natural language processing                                                   \n",
      "\n",
      "[85 rows x 10 columns]\n"
     ]
    }
   ],
   "source": [
    "print('\\n', ep)"
   ]
  },
  {
   "cell_type": "code",
   "execution_count": 43,
   "metadata": {},
   "outputs": [
    {
     "data": {
      "text/plain": [
       "(85, 10)"
      ]
     },
     "execution_count": 43,
     "metadata": {},
     "output_type": "execute_result"
    }
   ],
   "source": [
    "# 2.b. Describe its contents. What are the variables? The responses?\n",
    "\n",
    "ep.shape"
   ]
  },
  {
   "cell_type": "code",
   "execution_count": 44,
   "metadata": {},
   "outputs": [
    {
     "data": {
      "text/plain": [
       "['TimeStamp',\n",
       " 'Why have you enrolled in this course?  ',\n",
       " 'What program are you enrolled in?',\n",
       " 'How much programming experience have you had?',\n",
       " 'How much experience with probability and statistics have you had?',\n",
       " 'What is your expected major or concentration? ',\n",
       " 'What career path most interests you? ',\n",
       " 'Do you use social media for information purposes?  Check all that apply.',\n",
       " 'What kinds of data most interest you?  List any that cross your mind.  ',\n",
       " 'If we have time -- and we may not -- what special topics would interest you?  Check all that apply.']"
      ]
     },
     "execution_count": 44,
     "metadata": {},
     "output_type": "execute_result"
    }
   ],
   "source": [
    "ep.columns.tolist()"
   ]
  },
  {
   "cell_type": "code",
   "execution_count": 45,
   "metadata": {
    "scrolled": true
   },
   "outputs": [
    {
     "data": {
      "text/plain": [
       "TimeStamp                                                                                              object\n",
       "Why have you enrolled in this course?                                                                  object\n",
       "What program are you enrolled in?                                                                      object\n",
       "How much programming experience have you had?                                                          object\n",
       "How much experience with probability and statistics have you had?                                      object\n",
       "What is your expected major or concentration?                                                          object\n",
       "What career path most interests you?                                                                   object\n",
       "Do you use social media for information purposes?  Check all that apply.                               object\n",
       "What kinds of data most interest you?  List any that cross your mind.                                  object\n",
       "If we have time -- and we may not -- what special topics would interest you?  Check all that apply.    object\n",
       "dtype: object"
      ]
     },
     "execution_count": 45,
     "metadata": {},
     "output_type": "execute_result"
    }
   ],
   "source": [
    "#2. c. What data types are the variables?\n",
    "\n",
    "ep.dtypes"
   ]
  },
  {
   "cell_type": "code",
   "execution_count": 46,
   "metadata": {},
   "outputs": [],
   "source": [
    "#2.d. Change the variable names to something shorter.\n",
    "\n",
    "ep.columns = ['TimeStamp',\n",
    "              'Enrolling reason', 'Current program', \n",
    "              'Programming experience', \n",
    "              'Probability and stats experience', \n",
    "              'Major or concentration',\n",
    "              'Career path',\n",
    "              'Used social media',\n",
    "              'Data interested in',\n",
    "              'Special topics']"
   ]
  },
  {
   "cell_type": "code",
   "execution_count": 47,
   "metadata": {},
   "outputs": [
    {
     "data": {
      "text/plain": [
       "['TimeStamp',\n",
       " 'Enrolling reason',\n",
       " 'Current program',\n",
       " 'Programming experience',\n",
       " 'Probability and stats experience',\n",
       " 'Major or concentration',\n",
       " 'Career path',\n",
       " 'Used social media',\n",
       " 'Data interested in',\n",
       " 'Special topics']"
      ]
     },
     "execution_count": 47,
     "metadata": {},
     "output_type": "execute_result"
    }
   ],
   "source": [
    "ep.columns.tolist()"
   ]
  },
  {
   "cell_type": "markdown",
   "metadata": {},
   "source": [
    "## Question 3\n",
    "Consider the 538 college majors data at url:<br>\n",
    "url1 = 'https://raw.githubusercontent.com/fivethirtyeight/data/master/'<br>\n",
    "url2 = 'college-majors/recent-grads.csv'<br>\n",
    "url = url1 + url2<br><br>\n",
    "The variables are described at\n",
    "https://github.com/fivethirtyeight/data/tree/master/college-majors"
   ]
  },
  {
   "cell_type": "code",
   "execution_count": 48,
   "metadata": {},
   "outputs": [],
   "source": [
    "# 3.a. Create a dataframe df538 from the csv file at url using read_csv(). \n",
    "# What are its dimensions?\n",
    "\n",
    "import pandas as pd\n",
    "url1 = 'https://raw.githubusercontent.com/fivethirtyeight/data/master/' # break URL into two lines\n",
    "url2 = 'college-majors/recent-grads.csv'\n",
    "url = url1 + url2\n",
    "df538 = pd.read_csv(url, index_col=0)"
   ]
  },
  {
   "cell_type": "code",
   "execution_count": 49,
   "metadata": {},
   "outputs": [
    {
     "data": {
      "text/plain": [
       "(173, 20)"
      ]
     },
     "execution_count": 49,
     "metadata": {},
     "output_type": "execute_result"
    }
   ],
   "source": [
    "df538.shape"
   ]
  },
  {
   "cell_type": "code",
   "execution_count": 50,
   "metadata": {},
   "outputs": [
    {
     "name": "stdout",
     "output_type": "stream",
     "text": [
      "      Major_code                                      Major    Total      Men  \\\n",
      "Rank                                                                            \n",
      "1           2419                      PETROLEUM ENGINEERING   2339.0   2057.0   \n",
      "2           2416             MINING AND MINERAL ENGINEERING    756.0    679.0   \n",
      "3           2415                  METALLURGICAL ENGINEERING    856.0    725.0   \n",
      "4           2417  NAVAL ARCHITECTURE AND MARINE ENGINEERING   1258.0   1123.0   \n",
      "5           2405                       CHEMICAL ENGINEERING  32260.0  21239.0   \n",
      "6           2418                        NUCLEAR ENGINEERING   2573.0   2200.0   \n",
      "7           6202                          ACTUARIAL SCIENCE   3777.0   2110.0   \n",
      "8           5001                 ASTRONOMY AND ASTROPHYSICS   1792.0    832.0   \n",
      "9           2414                     MECHANICAL ENGINEERING  91227.0  80320.0   \n",
      "10          2408                     ELECTRICAL ENGINEERING  81527.0  65511.0   \n",
      "\n",
      "        Women     Major_category  ShareWomen  Sample_size  Employed  \\\n",
      "Rank                                                                  \n",
      "1       282.0        Engineering    0.120564           36      1976   \n",
      "2        77.0        Engineering    0.101852            7       640   \n",
      "3       131.0        Engineering    0.153037            3       648   \n",
      "4       135.0        Engineering    0.107313           16       758   \n",
      "5     11021.0        Engineering    0.341631          289     25694   \n",
      "6       373.0        Engineering    0.144967           17      1857   \n",
      "7      1667.0           Business    0.441356           51      2912   \n",
      "8       960.0  Physical Sciences    0.535714           10      1526   \n",
      "9     10907.0        Engineering    0.119559         1029     76442   \n",
      "10    16016.0        Engineering    0.196450          631     61928   \n",
      "\n",
      "      Full_time  Part_time  Full_time_year_round  Unemployed  \\\n",
      "Rank                                                           \n",
      "1          1849        270                  1207          37   \n",
      "2           556        170                   388          85   \n",
      "3           558        133                   340          16   \n",
      "4          1069        150                   692          40   \n",
      "5         23170       5180                 16697        1672   \n",
      "6          2038        264                  1449         400   \n",
      "7          2924        296                  2482         308   \n",
      "8          1085        553                   827          33   \n",
      "9         71298      13101                 54639        4650   \n",
      "10        55450      12695                 41413        3895   \n",
      "\n",
      "      Unemployment_rate  Median  P25th   P75th  College_jobs  \\\n",
      "Rank                                                           \n",
      "1              0.018381  110000  95000  125000          1534   \n",
      "2              0.117241   75000  55000   90000           350   \n",
      "3              0.024096   73000  50000  105000           456   \n",
      "4              0.050125   70000  43000   80000           529   \n",
      "5              0.061098   65000  50000   75000         18314   \n",
      "6              0.177226   65000  50000  102000          1142   \n",
      "7              0.095652   62000  53000   72000          1768   \n",
      "8              0.021167   62000  31500  109000           972   \n",
      "9              0.057342   60000  48000   70000         52844   \n",
      "10             0.059174   60000  45000   72000         45829   \n",
      "\n",
      "      Non_college_jobs  Low_wage_jobs  \n",
      "Rank                                   \n",
      "1                  364            193  \n",
      "2                  257             50  \n",
      "3                  176              0  \n",
      "4                  102              0  \n",
      "5                 4440            972  \n",
      "6                  657            244  \n",
      "7                  314            259  \n",
      "8                  500            220  \n",
      "9                16384           3253  \n",
      "10               10874           3170  \n"
     ]
    }
   ],
   "source": [
    "# 3. b. What argument/parameter would you use to read only the first ten lines of the file?\n",
    "\n",
    "h = df538.head(10)\n",
    "\n",
    "print(h)"
   ]
  },
  {
   "cell_type": "code",
   "execution_count": 51,
   "metadata": {},
   "outputs": [],
   "source": [
    "# 3.d. Set the index equal to Major.\n",
    "\n",
    "df538 = df538.set_index(['Major'])"
   ]
  },
  {
   "cell_type": "code",
   "execution_count": 52,
   "metadata": {},
   "outputs": [
    {
     "name": "stdout",
     "output_type": "stream",
     "text": [
      "                                           Major_code    Total      Men  \\\n",
      "Major                                                                     \n",
      "PETROLEUM ENGINEERING                            2419   2339.0   2057.0   \n",
      "MINING AND MINERAL ENGINEERING                   2416    756.0    679.0   \n",
      "METALLURGICAL ENGINEERING                        2415    856.0    725.0   \n",
      "NAVAL ARCHITECTURE AND MARINE ENGINEERING        2417   1258.0   1123.0   \n",
      "CHEMICAL ENGINEERING                             2405  32260.0  21239.0   \n",
      "NUCLEAR ENGINEERING                              2418   2573.0   2200.0   \n",
      "ACTUARIAL SCIENCE                                6202   3777.0   2110.0   \n",
      "ASTRONOMY AND ASTROPHYSICS                       5001   1792.0    832.0   \n",
      "MECHANICAL ENGINEERING                           2414  91227.0  80320.0   \n",
      "ELECTRICAL ENGINEERING                           2408  81527.0  65511.0   \n",
      "\n",
      "                                             Women     Major_category  \\\n",
      "Major                                                                   \n",
      "PETROLEUM ENGINEERING                        282.0        Engineering   \n",
      "MINING AND MINERAL ENGINEERING                77.0        Engineering   \n",
      "METALLURGICAL ENGINEERING                    131.0        Engineering   \n",
      "NAVAL ARCHITECTURE AND MARINE ENGINEERING    135.0        Engineering   \n",
      "CHEMICAL ENGINEERING                       11021.0        Engineering   \n",
      "NUCLEAR ENGINEERING                          373.0        Engineering   \n",
      "ACTUARIAL SCIENCE                           1667.0           Business   \n",
      "ASTRONOMY AND ASTROPHYSICS                   960.0  Physical Sciences   \n",
      "MECHANICAL ENGINEERING                     10907.0        Engineering   \n",
      "ELECTRICAL ENGINEERING                     16016.0        Engineering   \n",
      "\n",
      "                                           ShareWomen  Sample_size  Employed  \\\n",
      "Major                                                                          \n",
      "PETROLEUM ENGINEERING                        0.120564           36      1976   \n",
      "MINING AND MINERAL ENGINEERING               0.101852            7       640   \n",
      "METALLURGICAL ENGINEERING                    0.153037            3       648   \n",
      "NAVAL ARCHITECTURE AND MARINE ENGINEERING    0.107313           16       758   \n",
      "CHEMICAL ENGINEERING                         0.341631          289     25694   \n",
      "NUCLEAR ENGINEERING                          0.144967           17      1857   \n",
      "ACTUARIAL SCIENCE                            0.441356           51      2912   \n",
      "ASTRONOMY AND ASTROPHYSICS                   0.535714           10      1526   \n",
      "MECHANICAL ENGINEERING                       0.119559         1029     76442   \n",
      "ELECTRICAL ENGINEERING                       0.196450          631     61928   \n",
      "\n",
      "                                           Full_time  Part_time  \\\n",
      "Major                                                             \n",
      "PETROLEUM ENGINEERING                           1849        270   \n",
      "MINING AND MINERAL ENGINEERING                   556        170   \n",
      "METALLURGICAL ENGINEERING                        558        133   \n",
      "NAVAL ARCHITECTURE AND MARINE ENGINEERING       1069        150   \n",
      "CHEMICAL ENGINEERING                           23170       5180   \n",
      "NUCLEAR ENGINEERING                             2038        264   \n",
      "ACTUARIAL SCIENCE                               2924        296   \n",
      "ASTRONOMY AND ASTROPHYSICS                      1085        553   \n",
      "MECHANICAL ENGINEERING                         71298      13101   \n",
      "ELECTRICAL ENGINEERING                         55450      12695   \n",
      "\n",
      "                                           Full_time_year_round  Unemployed  \\\n",
      "Major                                                                         \n",
      "PETROLEUM ENGINEERING                                      1207          37   \n",
      "MINING AND MINERAL ENGINEERING                              388          85   \n",
      "METALLURGICAL ENGINEERING                                   340          16   \n",
      "NAVAL ARCHITECTURE AND MARINE ENGINEERING                   692          40   \n",
      "CHEMICAL ENGINEERING                                      16697        1672   \n",
      "NUCLEAR ENGINEERING                                        1449         400   \n",
      "ACTUARIAL SCIENCE                                          2482         308   \n",
      "ASTRONOMY AND ASTROPHYSICS                                  827          33   \n",
      "MECHANICAL ENGINEERING                                    54639        4650   \n",
      "ELECTRICAL ENGINEERING                                    41413        3895   \n",
      "\n",
      "                                           Unemployment_rate  Median  P25th  \\\n",
      "Major                                                                         \n",
      "PETROLEUM ENGINEERING                               0.018381  110000  95000   \n",
      "MINING AND MINERAL ENGINEERING                      0.117241   75000  55000   \n",
      "METALLURGICAL ENGINEERING                           0.024096   73000  50000   \n",
      "NAVAL ARCHITECTURE AND MARINE ENGINEERING           0.050125   70000  43000   \n",
      "CHEMICAL ENGINEERING                                0.061098   65000  50000   \n",
      "NUCLEAR ENGINEERING                                 0.177226   65000  50000   \n",
      "ACTUARIAL SCIENCE                                   0.095652   62000  53000   \n",
      "ASTRONOMY AND ASTROPHYSICS                          0.021167   62000  31500   \n",
      "MECHANICAL ENGINEERING                              0.057342   60000  48000   \n",
      "ELECTRICAL ENGINEERING                              0.059174   60000  45000   \n",
      "\n",
      "                                            P75th  College_jobs  \\\n",
      "Major                                                             \n",
      "PETROLEUM ENGINEERING                      125000          1534   \n",
      "MINING AND MINERAL ENGINEERING              90000           350   \n",
      "METALLURGICAL ENGINEERING                  105000           456   \n",
      "NAVAL ARCHITECTURE AND MARINE ENGINEERING   80000           529   \n",
      "CHEMICAL ENGINEERING                        75000         18314   \n",
      "NUCLEAR ENGINEERING                        102000          1142   \n",
      "ACTUARIAL SCIENCE                           72000          1768   \n",
      "ASTRONOMY AND ASTROPHYSICS                 109000           972   \n",
      "MECHANICAL ENGINEERING                      70000         52844   \n",
      "ELECTRICAL ENGINEERING                      72000         45829   \n",
      "\n",
      "                                           Non_college_jobs  Low_wage_jobs  \n",
      "Major                                                                       \n",
      "PETROLEUM ENGINEERING                                   364            193  \n",
      "MINING AND MINERAL ENGINEERING                          257             50  \n",
      "METALLURGICAL ENGINEERING                               176              0  \n",
      "NAVAL ARCHITECTURE AND MARINE ENGINEERING               102              0  \n",
      "CHEMICAL ENGINEERING                                   4440            972  \n",
      "NUCLEAR ENGINEERING                                     657            244  \n",
      "ACTUARIAL SCIENCE                                       314            259  \n",
      "ASTRONOMY AND ASTROPHYSICS                              500            220  \n",
      "MECHANICAL ENGINEERING                                16384           3253  \n",
      "ELECTRICAL ENGINEERING                                10874           3170  \n"
     ]
    }
   ],
   "source": [
    "h = df538.head(10)\n",
    "\n",
    "print(h)"
   ]
  },
  {
   "cell_type": "code",
   "execution_count": 53,
   "metadata": {},
   "outputs": [],
   "source": [
    "# 3.e. Use the sort_values() method to sort the data by Total.\n",
    "\n",
    "df538 = df538.sort_values(by='Total')\n"
   ]
  },
  {
   "cell_type": "code",
   "execution_count": 54,
   "metadata": {},
   "outputs": [
    {
     "name": "stdout",
     "output_type": "stream",
     "text": [
      "                                            Major_code   Total    Men  Women  \\\n",
      "Major                                                                          \n",
      "MILITARY TECHNOLOGIES                             3801   124.0  124.0    0.0   \n",
      "MATHEMATICS AND COMPUTER SCIENCE                  4005   609.0  500.0  109.0   \n",
      "SOIL SCIENCE                                      1106   685.0  476.0  209.0   \n",
      "GEOLOGICAL AND GEOPHYSICAL ENGINEERING            2411   720.0  488.0  232.0   \n",
      "MINING AND MINERAL ENGINEERING                    2416   756.0  679.0   77.0   \n",
      "EDUCATIONAL ADMINISTRATION AND SUPERVISION        2301   804.0  280.0  524.0   \n",
      "SCHOOL STUDENT COUNSELING                         2303   818.0  119.0  699.0   \n",
      "METALLURGICAL ENGINEERING                         2415   856.0  725.0  131.0   \n",
      "LIBRARY SCIENCE                                   3501  1098.0  134.0  964.0   \n",
      "COURT REPORTING                                   3201  1148.0  877.0  271.0   \n",
      "\n",
      "                                                                 Major_category  \\\n",
      "Major                                                                             \n",
      "MILITARY TECHNOLOGIES                       Industrial Arts & Consumer Services   \n",
      "MATHEMATICS AND COMPUTER SCIENCE                        Computers & Mathematics   \n",
      "SOIL SCIENCE                                    Agriculture & Natural Resources   \n",
      "GEOLOGICAL AND GEOPHYSICAL ENGINEERING                              Engineering   \n",
      "MINING AND MINERAL ENGINEERING                                      Engineering   \n",
      "EDUCATIONAL ADMINISTRATION AND SUPERVISION                            Education   \n",
      "SCHOOL STUDENT COUNSELING                                             Education   \n",
      "METALLURGICAL ENGINEERING                                           Engineering   \n",
      "LIBRARY SCIENCE                                                       Education   \n",
      "COURT REPORTING                                             Law & Public Policy   \n",
      "\n",
      "                                            ShareWomen  Sample_size  Employed  \\\n",
      "Major                                                                           \n",
      "MILITARY TECHNOLOGIES                         0.000000            4         0   \n",
      "MATHEMATICS AND COMPUTER SCIENCE              0.178982            7       559   \n",
      "SOIL SCIENCE                                  0.305109            4       613   \n",
      "GEOLOGICAL AND GEOPHYSICAL ENGINEERING        0.322222            5       604   \n",
      "MINING AND MINERAL ENGINEERING                0.101852            7       640   \n",
      "EDUCATIONAL ADMINISTRATION AND SUPERVISION    0.651741            5       703   \n",
      "SCHOOL STUDENT COUNSELING                     0.854523            4       730   \n",
      "METALLURGICAL ENGINEERING                     0.153037            3       648   \n",
      "LIBRARY SCIENCE                               0.877960            2       742   \n",
      "COURT REPORTING                               0.236063           14       930   \n",
      "\n",
      "                                            Full_time  Part_time  \\\n",
      "Major                                                              \n",
      "MILITARY TECHNOLOGIES                             111          0   \n",
      "MATHEMATICS AND COMPUTER SCIENCE                  584          0   \n",
      "SOIL SCIENCE                                      488        185   \n",
      "GEOLOGICAL AND GEOPHYSICAL ENGINEERING            524        126   \n",
      "MINING AND MINERAL ENGINEERING                    556        170   \n",
      "EDUCATIONAL ADMINISTRATION AND SUPERVISION        733          0   \n",
      "SCHOOL STUDENT COUNSELING                         595        135   \n",
      "METALLURGICAL ENGINEERING                         558        133   \n",
      "LIBRARY SCIENCE                                   593        237   \n",
      "COURT REPORTING                                   808        223   \n",
      "\n",
      "                                            Full_time_year_round  Unemployed  \\\n",
      "Major                                                                          \n",
      "MILITARY TECHNOLOGIES                                        111           0   \n",
      "MATHEMATICS AND COMPUTER SCIENCE                             391           0   \n",
      "SOIL SCIENCE                                                 383           0   \n",
      "GEOLOGICAL AND GEOPHYSICAL ENGINEERING                       396          49   \n",
      "MINING AND MINERAL ENGINEERING                               388          85   \n",
      "EDUCATIONAL ADMINISTRATION AND SUPERVISION                   504           0   \n",
      "SCHOOL STUDENT COUNSELING                                    545          88   \n",
      "METALLURGICAL ENGINEERING                                    340          16   \n",
      "LIBRARY SCIENCE                                              410          87   \n",
      "COURT REPORTING                                              808          11   \n",
      "\n",
      "                                            Unemployment_rate  Median  P25th  \\\n",
      "Major                                                                          \n",
      "MILITARY TECHNOLOGIES                                0.000000   40000  40000   \n",
      "MATHEMATICS AND COMPUTER SCIENCE                     0.000000   42000  30000   \n",
      "SOIL SCIENCE                                         0.000000   35000  18500   \n",
      "GEOLOGICAL AND GEOPHYSICAL ENGINEERING               0.075038   50000  42800   \n",
      "MINING AND MINERAL ENGINEERING                       0.117241   75000  55000   \n",
      "EDUCATIONAL ADMINISTRATION AND SUPERVISION           0.000000   34000  29000   \n",
      "SCHOOL STUDENT COUNSELING                            0.107579   41000  41000   \n",
      "METALLURGICAL ENGINEERING                            0.024096   73000  50000   \n",
      "LIBRARY SCIENCE                                      0.104946   22000  20000   \n",
      "COURT REPORTING                                      0.011690   54000  50000   \n",
      "\n",
      "                                             P75th  College_jobs  \\\n",
      "Major                                                              \n",
      "MILITARY TECHNOLOGIES                        40000             0   \n",
      "MATHEMATICS AND COMPUTER SCIENCE             78000           452   \n",
      "SOIL SCIENCE                                 44000           355   \n",
      "GEOLOGICAL AND GEOPHYSICAL ENGINEERING       57000           501   \n",
      "MINING AND MINERAL ENGINEERING               90000           350   \n",
      "EDUCATIONAL ADMINISTRATION AND SUPERVISION   35000           346   \n",
      "SCHOOL STUDENT COUNSELING                    43000           509   \n",
      "METALLURGICAL ENGINEERING                   105000           456   \n",
      "LIBRARY SCIENCE                              22000           288   \n",
      "COURT REPORTING                              54000           402   \n",
      "\n",
      "                                            Non_college_jobs  Low_wage_jobs  \n",
      "Major                                                                        \n",
      "MILITARY TECHNOLOGIES                                      0              0  \n",
      "MATHEMATICS AND COMPUTER SCIENCE                          67             25  \n",
      "SOIL SCIENCE                                             144              0  \n",
      "GEOLOGICAL AND GEOPHYSICAL ENGINEERING                    50             49  \n",
      "MINING AND MINERAL ENGINEERING                           257             50  \n",
      "EDUCATIONAL ADMINISTRATION AND SUPERVISION               206            111  \n",
      "SCHOOL STUDENT COUNSELING                                221              0  \n",
      "METALLURGICAL ENGINEERING                                176              0  \n",
      "LIBRARY SCIENCE                                          338            192  \n",
      "COURT REPORTING                                          528            144  \n"
     ]
    }
   ],
   "source": [
    "# 3.f. What code would you use to extract the ten majors with the greatest number of people?\n",
    "\n",
    "h = df538.head(10)\n",
    "\n",
    "print(h)"
   ]
  },
  {
   "cell_type": "code",
   "execution_count": 60,
   "metadata": {},
   "outputs": [],
   "source": [
    "# 3.g. Challenging. Construct horizontal bar charts of the top ten majors sorted, first, by median\n",
    "# salary and, second, by the salary of the 25th percentile. In each case plot just the variable\n",
    "# you sorted on.\n",
    "\n",
    "df538_v1 = df538.sort_values(by='Median')\n",
    "df538_median = df538_v1.head(10)"
   ]
  },
  {
   "cell_type": "code",
   "execution_count": 63,
   "metadata": {
    "scrolled": true
   },
   "outputs": [
    {
     "data": {
      "text/plain": [
       "<matplotlib.axes._subplots.AxesSubplot at 0x28ab44ff748>"
      ]
     },
     "execution_count": 63,
     "metadata": {},
     "output_type": "execute_result"
    },
    {
     "data": {
      "image/png": "[encoded data removed]",
      "text/plain": [
       "<Figure size 432x288 with 1 Axes>"
      ]
     },
     "metadata": {},
     "output_type": "display_data"
    }
   ],
   "source": [
    "# Horizontal bar chart w/ top ten majors sorted by median salary\n",
    "import matplotlib.pyplot as plt\n",
    "fig, axe = plt.subplots()\n",
    "\n",
    "df538_median[\"Median\"].plot(ax=axe, \n",
    "              kind='barh',\n",
    "              legend=False)"
   ]
  },
  {
   "cell_type": "code",
   "execution_count": 64,
   "metadata": {},
   "outputs": [],
   "source": [
    "# salary of the 25th percentile\n",
    "\n",
    "df538_v2 = df538.sort_values(by='P25th')\n",
    "df538_salary = df538_v2.head(10)"
   ]
  },
  {
   "cell_type": "code",
   "execution_count": 65,
   "metadata": {},
   "outputs": [
    {
     "data": {
      "text/plain": [
       "<matplotlib.axes._subplots.AxesSubplot at 0x28ab459cf98>"
      ]
     },
     "execution_count": 65,
     "metadata": {},
     "output_type": "execute_result"
    },
    {
     "data": {
      "image/png": "[encoded data removed]",
      "text/plain": [
       "<Figure size 432x288 with 1 Axes>"
      ]
     },
     "metadata": {},
     "output_type": "display_data"
    }
   ],
   "source": [
    "# Horizontal bar chart w/ top ten majors sorted by salary of 25th percentile\n",
    "\n",
    "fig, axe = plt.subplots()\n",
    "\n",
    "df538_salary[\"P25th\"].plot(ax=axe, \n",
    "              kind='barh',\n",
    "              legend=False)"
   ]
  }
 ],
 "metadata": {
  "kernelspec": {
   "display_name": "Python 3",
   "language": "python",
   "name": "python3"
  }
 },
 "nbformat": 4,
 "nbformat_minor": 2
}
