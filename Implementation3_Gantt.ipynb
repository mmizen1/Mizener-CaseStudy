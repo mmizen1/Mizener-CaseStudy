{
 "cells": [
  {
   "cell_type": "markdown",
   "metadata": {},
   "source": [
    "# Implementation 3: Gantt Chart\n",
    "\n",
    "Gantt Charts are usually used to depict depedencies between time-based tasks. In the project management field, it is common used as the primary tool to visualize a project schedule. For this case study, the sample schedule used to create the Tableau visualization is pulled from the assignment created by myself during the AIT 630 course. \n",
    "\n",
    "Tableau visualization is available: https://public.tableau.com/views/Gantt_37/ProjectGanttChart"
   ]
  }
 ],
 "metadata": {
  "kernelspec": {
   "display_name": "Python 3",
   "language": "python",
   "name": "python3"
  },
  "language_info": {
   "codemirror_mode": {
    "name": "ipython",
    "version": 3
   },
   "file_extension": ".py",
   "mimetype": "text/x-python",
   "name": "python",
   "nbconvert_exporter": "python",
   "pygments_lexer": "ipython3",
   "version": "3.6.5"
  }
 },
 "nbformat": 4,
 "nbformat_minor": 2
}
